{
 "cells": [
  {
   "cell_type": "code",
   "execution_count": 1,
   "metadata": {},
   "outputs": [
    {
     "name": "stdout",
     "output_type": "stream",
     "text": [
      "      Unnamed: 0  Price   Age     KM FuelType   HP  MetColor  Automatic    CC  \\\n",
      "0              0  13500  23.0  46986   Diesel   90       1.0          0  2000   \n",
      "1              1  13750  23.0  72937   Diesel   90       1.0          0  2000   \n",
      "2              2  13950  24.0  41711   Diesel   90       NaN          0  2000   \n",
      "3              3  14950  26.0  48000   Diesel   90       0.0          0  2000   \n",
      "4              4  13750  30.0  38500   Diesel   90       0.0          0  2000   \n",
      "...          ...    ...   ...    ...      ...  ...       ...        ...   ...   \n",
      "1431        1431   7500   NaN  20544   Petrol   86       1.0          0  1300   \n",
      "1432        1432  10845  72.0     ??   Petrol   86       0.0          0  1300   \n",
      "1433        1433   8500   NaN  17016   Petrol   86       0.0          0  1300   \n",
      "1434        1434   7250  70.0     ??      NaN   86       1.0          0  1300   \n",
      "1435        1435   6950  76.0      1   Petrol  110       0.0          0  1600   \n",
      "\n",
      "      Doors  Weight  \n",
      "0     three    1165  \n",
      "1         3    1165  \n",
      "2         3    1165  \n",
      "3         3    1165  \n",
      "4         3    1170  \n",
      "...     ...     ...  \n",
      "1431      3    1025  \n",
      "1432      3    1015  \n",
      "1433      3    1015  \n",
      "1434      3    1015  \n",
      "1435      5    1114  \n",
      "\n",
      "[1436 rows x 11 columns]\n"
     ]
    }
   ],
   "source": [
    "#Data exploration\n",
    "\n",
    "import pandas as pd\n",
    "import numpy as np\n",
    "import os\n",
    "os.chdir(\"D:/Pandas\")\n",
    "\n",
    "data = pd.read_csv(\"Toyota.csv\")\n",
    "print(data)"
   ]
  },
  {
   "cell_type": "code",
   "execution_count": 2,
   "metadata": {},
   "outputs": [
    {
     "name": "stdout",
     "output_type": "stream",
     "text": [
      "      Unnamed: 0  Price   Age     KM FuelType   HP  MetColor  Automatic    CC  \\\n",
      "0              0  13500  23.0  46986   Diesel   90       1.0          0  2000   \n",
      "1              1  13750  23.0  72937   Diesel   90       1.0          0  2000   \n",
      "2              2  13950  24.0  41711   Diesel   90       0.0          0  2000   \n",
      "3              3  14950  26.0  48000   Diesel   90       0.0          0  2000   \n",
      "4              4  13750  30.0  38500   Diesel   90       0.0          0  2000   \n",
      "...          ...    ...   ...    ...      ...  ...       ...        ...   ...   \n",
      "1431        1431   7500   0.0  20544   Petrol   86       1.0          0  1300   \n",
      "1432        1432  10845  72.0      0   Petrol   86       0.0          0  1300   \n",
      "1433        1433   8500   0.0  17016   Petrol   86       0.0          0  1300   \n",
      "1434        1434   7250  70.0      0        0   86       1.0          0  1300   \n",
      "1435        1435   6950  76.0      1   Petrol  110       0.0          0  1600   \n",
      "\n",
      "      Doors  Weight  \n",
      "0     three    1165  \n",
      "1         3    1165  \n",
      "2         3    1165  \n",
      "3         3    1165  \n",
      "4         3    1170  \n",
      "...     ...     ...  \n",
      "1431      3    1025  \n",
      "1432      3    1015  \n",
      "1433      3    1015  \n",
      "1434      3    1015  \n",
      "1435      5    1114  \n",
      "\n",
      "[1436 rows x 11 columns]\n"
     ]
    }
   ],
   "source": [
    "#Replacing missing values\n",
    "\n",
    "data = data.fillna(0)\n",
    "data = data.replace('??',0)\n",
    "data = data.replace('????',0)\n",
    "print(data)\n"
   ]
  },
  {
   "cell_type": "code",
   "execution_count": 3,
   "metadata": {},
   "outputs": [
    {
     "name": "stdout",
     "output_type": "stream",
     "text": [
      "     Name  Age Gender Marks\n",
      "0  Suresh   12      M    90\n",
      "1     Som   12      M    86\n",
      "2  Prince   34      M   NaN\n",
      "3  Gaurav   10      M    56\n",
      "4    Ravi   44      M    72\n",
      "5    Guru   22      F   NaN\n",
      "6  Ramesh   19      M    49\n",
      "\n",
      "     Name  Gender  Marks\n",
      "0  Suresh     0.0   90.0\n",
      "1     Som     0.0   86.0\n"
     ]
    }
   ],
   "source": [
    "data = {\n",
    " 'Name': ['Suresh', 'Som', 'Prince', 'Gaurav', 'Ravi', 'Guru', 'Ramesh'],\n",
    " 'Age': [12, 12, 34, 10, 44, 22, 19],\n",
    " 'Gender': ['M', 'M', 'M', 'M', 'M', 'F', 'M'],\n",
    " 'Marks': [90, 86, 'NaN', 56, 72, 'NaN', 49]\n",
    "}\n",
    "df = pd.DataFrame(data)\n",
    "print(df)\n",
    "c = avg = 0\n",
    "for element in df['Marks']:\n",
    "    if str(element).isnumeric():\n",
    "        c += 1\n",
    "        avg += element\n",
    "avg /= c\n",
    "# Replacing missing values\n",
    "df = df.replace(to_replace=\"NaN\", value=avg)\n",
    "# Categorizing gender\n",
    "df['Gender'] = df['Gender'].map({'M': 0, 'F': 1}).astype(float)\n",
    "# Filter top scoring students\n",
    "df = df[df['Marks'] >= 75]\n",
    "# Remove age row\n",
    "df = df.drop(['Age'], axis=1)\n",
    "print()\n",
    "print(df)"
   ]
  },
  {
   "cell_type": "code",
   "execution_count": 4,
   "metadata": {},
   "outputs": [
    {
     "name": "stdout",
     "output_type": "stream",
     "text": [
      "    ID     NAME BRANCH PENDING\n",
      "0  101  Jagroop    CSE    5000\n",
      "1  102  Praveen    ETC     250\n",
      "2  103   Barjot    ETC     NIL\n",
      "3  104    Pooja    CSE    9000\n",
      "4  105    Rahul    CSE   15000\n",
      "5  106   Nikita    ETC     NIL\n",
      "6  107  Saurabh    CSE    4500\n",
      "7  108    Ayush    CSE    1800\n",
      "8  109    Dolly    CSE     250\n",
      "9  110    Mohit    CSE     NIL\n"
     ]
    }
   ],
   "source": [
    "#Merging, removing duplicates\n",
    "#creating DataFrame for Student Details\n",
    "details = pd.DataFrame(\n",
    " {\n",
    " 'ID': [101, 102, 103, 104, 105, 106,107, 108, 109, 110],\n",
    " 'NAME': ['Jagroop', 'Praveen', 'Barjot',\n",
    " 'Pooja', 'Rahul', 'Nikita', 'Saurabh', 'Ayush', 'Dolly', \"Mohit\"],\n",
    " 'BRANCH': ['CSE', 'ETC', 'ETC', 'CSE', 'CSE', 'ETC', 'CSE', 'CSE', 'CSE', 'CSE']})\n",
    "# Import module import pandas as pd\n",
    "# Creating Dataframe for Fees Status\n",
    "fees_status = pd.DataFrame(\n",
    " {\n",
    " 'ID': [101, 102, 103, 104, 105, 106, 107, 108, 109, 110],\n",
    " 'PENDING': ['5000', '250', 'NIL', '9000', '15000', 'NIL', '4500', '1800', '250', 'NIL']})\n",
    "\n",
    "# Merging two dataframes\n",
    "print(pd.merge(details, fees_status, on='ID'))"
   ]
  },
  {
   "cell_type": "code",
   "execution_count": 7,
   "metadata": {},
   "outputs": [
    {
     "name": "stdout",
     "output_type": "stream",
     "text": [
      "\n",
      "Printing group of CSE students\n",
      "    ID     NAME BRANCH\n",
      "0  101  Jagroop    CSE\n",
      "3  104    Pooja    CSE\n",
      "4  105    Rahul    CSE\n",
      "6  107  Saurabh    CSE\n",
      "7  108    Ayush    CSE\n",
      "8  109    Dolly    CSE\n",
      "9  110    Mohit    CSE\n"
     ]
    }
   ],
   "source": [
    "# Grouping with ETC branch\n",
    "grouped = details.groupby('BRANCH')\n",
    "print()\n",
    "print(\"Printing group of CSE students\")\n",
    "print(grouped.get_group('CSE'))\n"
   ]
  },
  {
   "cell_type": "code",
   "execution_count": 6,
   "metadata": {},
   "outputs": [
    {
     "name": "stdout",
     "output_type": "stream",
     "text": [
      "\n",
      "Removing duplicate entries in branch\n",
      "    ID     NAME BRANCH\n",
      "0  101  Jagroop    CSE\n",
      "1  102  Praveen    ETC\n"
     ]
    }
   ],
   "source": [
    "# Removing duplicate entries\n",
    "non_duplicate = details[~details.duplicated('BRANCH')]\n",
    "print()\n",
    "print(\"Removing duplicate entries in branch\")\n",
    "print(non_duplicate)"
   ]
  },
  {
   "cell_type": "code",
   "execution_count": 9,
   "metadata": {},
   "outputs": [
    {
     "name": "stdout",
     "output_type": "stream",
     "text": [
      "      Name  Age   Grade         Role  Rating Country\n",
      "0    Virat   31    Best      Batsman     871     IND\n",
      "1    Rohit   33  Better      Batsman     855     IND\n",
      "2    Babar   25    Good      Batsman     829     PAK\n",
      "3    Boult   31    Best       Bowler     722      NZ\n",
      "4   Bumrah   26  Better       Bowler     719     IND\n",
      "5   Mujeeb   19    Good       Bowler     701     AFG\n",
      "6     Nabi   35    Best  All-Rounder     301     AFG\n",
      "7  Strokes   29  Better   AllRounder     285     ENG\n",
      "[19, 25, 30, 35]\n",
      "\n",
      "Result of binning\n",
      "      Name  Age   Grade         Role  Rating Country Exp_category\n",
      "0    Virat   31    Best      Batsman     871     IND         None\n",
      "1    Rohit   33  Better      Batsman     855     IND         None\n",
      "2    Babar   25    Good      Batsman     829     PAK         None\n",
      "3    Boult   31    Best       Bowler     722      NZ         None\n",
      "4   Bumrah   26  Better       Bowler     719     IND         None\n",
      "5   Mujeeb   19    Good       Bowler     701     AFG         None\n",
      "6     Nabi   35    Best  All-Rounder     301     AFG         None\n",
      "7  Strokes   29  Better   AllRounder     285     ENG         None\n"
     ]
    }
   ],
   "source": [
    "cricketers = {'Name': ['Virat', 'Rohit', 'Babar', 'Boult', 'Bumrah', 'Mujeeb', 'Nabi', 'Strokes'], 'Age': [31,\n",
    "33, 25, 31, 26, 19, 35, 29],\n",
    " 'Grade': [ 'Best', 'Better', 'Good', 'Best', 'Better', 'Good', 'Best', 'Better'],\n",
    " 'Role': ['Batsman', 'Batsman', 'Batsman', 'Bowler', 'Bowler', 'Bowler', 'All-Rounder', 'AllRounder'],\n",
    " 'Rating': [871, 855, 829, 722, 719, 701, 301, 285],\n",
    " 'Country': ['IND', 'IND', 'PAK', 'NZ', 'IND', 'AFG', 'AFG', 'ENG']}\n",
    "cricketers = pd.DataFrame(cricketers)\n",
    "print(cricketers)\n",
    "def binningFunction(col, cut_points, labels=None):\n",
    "     minval = col.min()\n",
    "     maxval = col.max()\n",
    "     break_points = [minval] + cut_points + [maxval]\n",
    "     print(break_points)\n",
    "     if not labels:\n",
    "         labels = range(len(cut_points) + 1)\n",
    "         colBin = pd.cut(col, bins=break_points, labels=labels, include_lowest=True)\n",
    "         return colBin\n",
    "cut_points = [25, 30];\n",
    "labels = [\"Young\", \"Senior\", \"SuperSenior\"]\n",
    "cricketers[\"Exp_category\"] = binningFunction(cricketers[\"Age\"], cut_points, labels)\n",
    "print()\n",
    "print(\"Result of binning\")\n",
    "print(cricketers)"
   ]
  },
  {
   "cell_type": "code",
   "execution_count": null,
   "metadata": {},
   "outputs": [],
   "source": []
  }
 ],
 "metadata": {
  "kernelspec": {
   "display_name": "Python 3",
   "language": "python",
   "name": "python3"
  },
  "language_info": {
   "codemirror_mode": {
    "name": "ipython",
    "version": 3
   },
   "file_extension": ".py",
   "mimetype": "text/x-python",
   "name": "python",
   "nbconvert_exporter": "python",
   "pygments_lexer": "ipython3",
   "version": "3.8.5"
  }
 },
 "nbformat": 4,
 "nbformat_minor": 4
}
