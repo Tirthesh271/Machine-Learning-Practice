{
 "cells": [
  {
   "cell_type": "code",
   "execution_count": 1,
   "metadata": {},
   "outputs": [],
   "source": [
    "import numpy as np\n",
    "import math\n",
    "from sklearn.datasets import load_iris\n",
    "from sklearn import datasets, linear_model, metrics\n",
    "# load iris data set\n",
    "\n",
    "dataset = load_iris()\n",
    "\n",
    "a = dataset.data\n",
    "\n",
    "b = np.zeros(150)"
   ]
  },
  {
   "cell_type": "code",
   "execution_count": 2,
   "metadata": {},
   "outputs": [
    {
     "name": "stdout",
     "output_type": "stream",
     "text": [
      "Bin Mean: \n",
      " [[2.18 2.18 2.18 2.18 2.18]\n",
      " [2.34 2.34 2.34 2.34 2.34]\n",
      " [2.48 2.48 2.48 2.48 2.48]\n",
      " [2.52 2.52 2.52 2.52 2.52]\n",
      " [2.62 2.62 2.62 2.62 2.62]\n",
      " [2.7  2.7  2.7  2.7  2.7 ]\n",
      " [2.74 2.74 2.74 2.74 2.74]\n",
      " [2.8  2.8  2.8  2.8  2.8 ]\n",
      " [2.8  2.8  2.8  2.8  2.8 ]\n",
      " [2.86 2.86 2.86 2.86 2.86]\n",
      " [2.9  2.9  2.9  2.9  2.9 ]\n",
      " [2.96 2.96 2.96 2.96 2.96]\n",
      " [3.   3.   3.   3.   3.  ]\n",
      " [3.   3.   3.   3.   3.  ]\n",
      " [3.   3.   3.   3.   3.  ]\n",
      " [3.   3.   3.   3.   3.  ]\n",
      " [3.04 3.04 3.04 3.04 3.04]\n",
      " [3.1  3.1  3.1  3.1  3.1 ]\n",
      " [3.12 3.12 3.12 3.12 3.12]\n",
      " [3.2  3.2  3.2  3.2  3.2 ]\n",
      " [3.2  3.2  3.2  3.2  3.2 ]\n",
      " [3.26 3.26 3.26 3.26 3.26]\n",
      " [3.34 3.34 3.34 3.34 3.34]\n",
      " [3.4  3.4  3.4  3.4  3.4 ]\n",
      " [3.4  3.4  3.4  3.4  3.4 ]\n",
      " [3.5  3.5  3.5  3.5  3.5 ]\n",
      " [3.58 3.58 3.58 3.58 3.58]\n",
      " [3.74 3.74 3.74 3.74 3.74]\n",
      " [3.82 3.82 3.82 3.82 3.82]\n",
      " [4.12 4.12 4.12 4.12 4.12]]\n"
     ]
    }
   ],
   "source": [
    "# take 1st column among 4 column of data set\n",
    "\n",
    "for i in range (150):\n",
    "\n",
    "    b[i]=a[i,1]\n",
    "b=np.sort(b) #sort the array\n",
    "# create bins\n",
    "\n",
    "bin1=np.zeros((30,5))\n",
    "\n",
    "bin2=np.zeros((30,5))\n",
    "\n",
    "bin3=np.zeros((30,5))\n",
    "# Bin mean\n",
    "\n",
    "for i in range (0,150,5):\n",
    "\n",
    "    k=int(i/5)\n",
    "\n",
    "    mean=(b[i] + b[i+1] + b[i+2] + b[i+3] + b[i+4])/5\n",
    "\n",
    "    for j in range(5):\n",
    "\n",
    "        bin1[k,j]=mean\n",
    "\n",
    "print(\"Bin Mean: \\n\",bin1)"
   ]
  },
  {
   "cell_type": "code",
   "execution_count": 3,
   "metadata": {},
   "outputs": [
    {
     "name": "stdout",
     "output_type": "stream",
     "text": [
      "Bin Boundaries: \n",
      " [[2.  2.3 2.3 2.3 2.3]\n",
      " [2.3 2.3 2.3 2.4 2.4]\n",
      " [2.4 2.5 2.5 2.5 2.5]\n",
      " [2.5 2.5 2.5 2.5 2.6]\n",
      " [2.6 2.6 2.6 2.6 2.7]\n",
      " [2.7 2.7 2.7 2.7 2.7]\n",
      " [2.7 2.7 2.7 2.8 2.8]\n",
      " [2.8 2.8 2.8 2.8 2.8]\n",
      " [2.8 2.8 2.8 2.8 2.8]\n",
      " [2.8 2.8 2.9 2.9 2.9]\n",
      " [2.9 2.9 2.9 2.9 2.9]\n",
      " [2.9 2.9 3.  3.  3. ]\n",
      " [3.  3.  3.  3.  3. ]\n",
      " [3.  3.  3.  3.  3. ]\n",
      " [3.  3.  3.  3.  3. ]\n",
      " [3.  3.  3.  3.  3. ]\n",
      " [3.  3.  3.  3.1 3.1]\n",
      " [3.1 3.1 3.1 3.1 3.1]\n",
      " [3.1 3.1 3.1 3.1 3.2]\n",
      " [3.2 3.2 3.2 3.2 3.2]\n",
      " [3.2 3.2 3.2 3.2 3.2]\n",
      " [3.2 3.2 3.3 3.3 3.3]\n",
      " [3.3 3.3 3.3 3.4 3.4]\n",
      " [3.4 3.4 3.4 3.4 3.4]\n",
      " [3.4 3.4 3.4 3.4 3.4]\n",
      " [3.5 3.5 3.5 3.5 3.5]\n",
      " [3.5 3.6 3.6 3.6 3.6]\n",
      " [3.7 3.7 3.7 3.8 3.8]\n",
      " [3.8 3.8 3.8 3.8 3.9]\n",
      " [3.9 3.9 3.9 4.4 4.4]]\n"
     ]
    }
   ],
   "source": [
    "# Bin boundaries\n",
    "\n",
    "for i in range (0,150,5):\n",
    "\n",
    "    k=int(i/5)\n",
    "\n",
    "    for j in range (5):\n",
    "\n",
    "        if (b[i+j]-b[i]) < (b[i+4]-b[i+j]):\n",
    "            bin2[k,j]=b[i]\n",
    "        else:\n",
    "            bin2[k,j]=b[i+4]\n",
    "\n",
    "print(\"Bin Boundaries: \\n\",bin2)"
   ]
  },
  {
   "cell_type": "code",
   "execution_count": 4,
   "metadata": {},
   "outputs": [
    {
     "name": "stdout",
     "output_type": "stream",
     "text": [
      "Bin Median: \n",
      " [[2.2 2.2 2.2 2.2 2.2]\n",
      " [2.3 2.3 2.3 2.3 2.3]\n",
      " [2.5 2.5 2.5 2.5 2.5]\n",
      " [2.5 2.5 2.5 2.5 2.5]\n",
      " [2.6 2.6 2.6 2.6 2.6]\n",
      " [2.7 2.7 2.7 2.7 2.7]\n",
      " [2.7 2.7 2.7 2.7 2.7]\n",
      " [2.8 2.8 2.8 2.8 2.8]\n",
      " [2.8 2.8 2.8 2.8 2.8]\n",
      " [2.9 2.9 2.9 2.9 2.9]\n",
      " [2.9 2.9 2.9 2.9 2.9]\n",
      " [3.  3.  3.  3.  3. ]\n",
      " [3.  3.  3.  3.  3. ]\n",
      " [3.  3.  3.  3.  3. ]\n",
      " [3.  3.  3.  3.  3. ]\n",
      " [3.  3.  3.  3.  3. ]\n",
      " [3.  3.  3.  3.  3. ]\n",
      " [3.1 3.1 3.1 3.1 3.1]\n",
      " [3.1 3.1 3.1 3.1 3.1]\n",
      " [3.2 3.2 3.2 3.2 3.2]\n",
      " [3.2 3.2 3.2 3.2 3.2]\n",
      " [3.3 3.3 3.3 3.3 3.3]\n",
      " [3.3 3.3 3.3 3.3 3.3]\n",
      " [3.4 3.4 3.4 3.4 3.4]\n",
      " [3.4 3.4 3.4 3.4 3.4]\n",
      " [3.5 3.5 3.5 3.5 3.5]\n",
      " [3.6 3.6 3.6 3.6 3.6]\n",
      " [3.7 3.7 3.7 3.7 3.7]\n",
      " [3.8 3.8 3.8 3.8 3.8]\n",
      " [4.1 4.1 4.1 4.1 4.1]]\n"
     ]
    }
   ],
   "source": [
    "# Bin median\n",
    "\n",
    "for i in range (0,150,5):\n",
    "\n",
    "    k=int(i/5)\n",
    "\n",
    "    for j in range (5):\n",
    "        bin3[k,j]=b[i+2]\n",
    "\n",
    "print(\"Bin Median: \\n\",bin3)"
   ]
  }
 ],
 "metadata": {
  "kernelspec": {
   "display_name": "Python 3",
   "language": "python",
   "name": "python3"
  },
  "language_info": {
   "codemirror_mode": {
    "name": "ipython",
    "version": 3
   },
   "file_extension": ".py",
   "mimetype": "text/x-python",
   "name": "python",
   "nbconvert_exporter": "python",
   "pygments_lexer": "ipython3",
   "version": "3.8.5"
  }
 },
 "nbformat": 4,
 "nbformat_minor": 4
}
