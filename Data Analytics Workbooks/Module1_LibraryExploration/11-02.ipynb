{
 "cells": [
  {
   "cell_type": "code",
   "execution_count": 1,
   "metadata": {},
   "outputs": [],
   "source": [
    "import numpy as np"
   ]
  },
  {
   "cell_type": "code",
   "execution_count": 10,
   "metadata": {},
   "outputs": [
    {
     "name": "stdout",
     "output_type": "stream",
     "text": [
      "[1 3 2]\n",
      "<class 'numpy.ndarray'>\n"
     ]
    }
   ],
   "source": [
    "a = np.array([1,3,2])#1d array using numpy\n",
    "print(a)\n",
    "print(type(a))"
   ]
  },
  {
   "cell_type": "code",
   "execution_count": 8,
   "metadata": {},
   "outputs": [
    {
     "name": "stdout",
     "output_type": "stream",
     "text": [
      "[[1 2 2]\n",
      " [3 2 5]]\n"
     ]
    }
   ],
   "source": [
    "a = np.array(([1,2,2],[3,2,5]))#2d array using numpy\n",
    "print(a)"
   ]
  },
  {
   "cell_type": "code",
   "execution_count": 15,
   "metadata": {},
   "outputs": [
    {
     "name": "stdout",
     "output_type": "stream",
     "text": [
      "[[[1 2 3]\n",
      "  [2 3 4]]\n",
      "\n",
      " [[1 3 5]\n",
      "  [6 7 8]]]\n",
      "array size is 3\n"
     ]
    }
   ],
   "source": [
    "a = np.array(([[1,2,3],[2,3,4]],[[1,3,5],[6,7,8]]))#3d array using numpy\n",
    "print(a)\n",
    "print(\"array size is\",a.ndim)"
   ]
  },
  {
   "cell_type": "code",
   "execution_count": 17,
   "metadata": {},
   "outputs": [
    {
     "name": "stdout",
     "output_type": "stream",
     "text": [
      "1st element is 1\n",
      "2nd element is 3\n",
      "3rd element is 2\n"
     ]
    }
   ],
   "source": [
    "a = np.array([1,3,2])\n",
    "print(\"1st element is\",a[0])\n",
    "print(\"2nd element is\",a[1])\n",
    "print(\"3rd element is\",a[2])"
   ]
  },
  {
   "cell_type": "code",
   "execution_count": 19,
   "metadata": {},
   "outputs": [
    {
     "name": "stdout",
     "output_type": "stream",
     "text": [
      "last element is 2\n",
      "2nd last element is 3\n",
      "3rd last element is 1\n"
     ]
    }
   ],
   "source": [
    "a = np.array([1,3,2])\n",
    "print(\"last element is\",a[-1])\n",
    "print(\"2nd last element is\",a[-2])\n",
    "print(\"3rd last element is\",a[-3])"
   ]
  },
  {
   "cell_type": "code",
   "execution_count": 22,
   "metadata": {},
   "outputs": [
    {
     "name": "stdout",
     "output_type": "stream",
     "text": [
      "Row1: [1 2 2]\n",
      "Row2: [3 2 5]\n",
      "Row 2, col 1 = [2, 1]\n"
     ]
    }
   ],
   "source": [
    "a = np.array(([1,2,2],[3,2,5]))\n",
    "print(\"Row1:\",a[0])\n",
    "print(\"Row2:\",a[1])\n",
    "print(\"Row 2, col 1 =\",[2,1])\n"
   ]
  },
  {
   "cell_type": "code",
   "execution_count": 25,
   "metadata": {},
   "outputs": [
    {
     "name": "stdout",
     "output_type": "stream",
     "text": [
      "[[ 1  2  3  4]\n",
      " [ 5  6  7  8]\n",
      " [12 14 16 18]\n",
      " [21 23 25 27]]\n",
      "12\n"
     ]
    }
   ],
   "source": [
    "a = np.array(([1,2,3,4],[5,6,7,8],[12,14,16,18],[21,23,25,27]))\n",
    "print(a)\n",
    "print(a[-2,-4])"
   ]
  },
  {
   "cell_type": "code",
   "execution_count": 34,
   "metadata": {},
   "outputs": [
    {
     "name": "stdout",
     "output_type": "stream",
     "text": [
      "[33 11 99]\n",
      "[66 44 88]\n",
      "[22 66 44 88]\n"
     ]
    }
   ],
   "source": [
    "a = np.array(([33,11,99,22,66,44,88]))\n",
    "print(a[0:3])\n",
    "print(a[-3:])\n",
    "print(a[3:])"
   ]
  },
  {
   "cell_type": "code",
   "execution_count": 36,
   "metadata": {},
   "outputs": [
    {
     "name": "stdout",
     "output_type": "stream",
     "text": [
      "[33 11 99 22 66 44 88]\n",
      "[11 22 44]\n",
      "[33 22]\n"
     ]
    }
   ],
   "source": [
    "print(a[::1])\n",
    "print(a[1::2])\n",
    "print(a[0:6:3])"
   ]
  },
  {
   "cell_type": "code",
   "execution_count": 37,
   "metadata": {},
   "outputs": [
    {
     "name": "stdout",
     "output_type": "stream",
     "text": [
      "[88 44 66 22 99 11 33]\n",
      "[11 22 44]\n",
      "[33 22]\n"
     ]
    }
   ],
   "source": [
    "print(a[-1::-1])\n",
    "print(a[1::2])\n",
    "print(a[0:6:3])"
   ]
  },
  {
   "cell_type": "code",
   "execution_count": null,
   "metadata": {},
   "outputs": [],
   "source": []
  }
 ],
 "metadata": {
  "kernelspec": {
   "display_name": "Python 3",
   "language": "python",
   "name": "python3"
  },
  "language_info": {
   "codemirror_mode": {
    "name": "ipython",
    "version": 3
   },
   "file_extension": ".py",
   "mimetype": "text/x-python",
   "name": "python",
   "nbconvert_exporter": "python",
   "pygments_lexer": "ipython3",
   "version": "3.8.5"
  }
 },
 "nbformat": 4,
 "nbformat_minor": 4
}
