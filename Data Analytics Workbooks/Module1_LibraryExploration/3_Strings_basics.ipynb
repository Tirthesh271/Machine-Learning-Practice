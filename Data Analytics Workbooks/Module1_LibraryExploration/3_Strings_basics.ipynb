{
 "cells": [
  {
   "cell_type": "code",
   "execution_count": 7,
   "metadata": {},
   "outputs": [
    {
     "name": "stdout",
     "output_type": "stream",
     "text": [
      "Length of string =  11\n",
      "String->  electronics\n",
      "Reversed string->  scinortcele\n",
      "odd characters:  eetois\n",
      "\n",
      "Enter a string to compare with \" electronics \"\n",
      "You entered: electron\n",
      "Strings are different\n",
      "\n",
      "Upper case:  ELECTRONICS\n",
      "Lower case:  electronics\n",
      "\n",
      "Enter a word to find in \" electronics \":\n",
      "You entered: electron\n",
      "electron  is present in the string \n",
      "\n",
      "Enter string to check palindrome: racecar\n",
      "String is palindromic\n"
     ]
    }
   ],
   "source": [
    "s = \"electronics\"\n",
    "\n",
    "print(\"Length of string = \",len(s))#print length of string\n",
    "print(\"String-> \",s)#display string\n",
    "print(\"Reversed string-> \",s[-1::-1])#string reversal\n",
    "print(\"odd characters: \",s[::2])#string slicing\n",
    "\n",
    "#compare string\n",
    "print(\"\\nEnter a string to compare with \\\"\",s,\"\\\"\")\n",
    "inp = input(\"You entered: \")\n",
    "if s==inp:\n",
    "    print(\"Same strings\")\n",
    "else:\n",
    "    print(\"Strings are different\")\n",
    "    \n",
    "#change case\n",
    "print(\"\\nUpper case: \",s.upper())\n",
    "print(\"Lower case: \",s.lower())\n",
    "\n",
    "#find a substring in a string\n",
    "print(\"\\nEnter a word to find in \\\"\",s,\"\\\":\")\n",
    "inp = input(\"You entered: \")\n",
    "if inp in s:\n",
    "            print(inp,\" is present in the string \")\n",
    "else:\n",
    "    print(inp,\" is not present in the string \")\n",
    "\n",
    "#check palindromic strings \n",
    "inp = input(\"\\nEnter string to check palindrome: \")\n",
    "if inp == inp[::-1]:\n",
    "    print(\"String is palindromic\")\n",
    "else:\n",
    "    print(\"String is not palindromic\")"
   ]
  },
  {
   "cell_type": "code",
   "execution_count": null,
   "metadata": {},
   "outputs": [],
   "source": []
  }
 ],
 "metadata": {
  "kernelspec": {
   "display_name": "Python 3",
   "language": "python",
   "name": "python3"
  },
  "language_info": {
   "codemirror_mode": {
    "name": "ipython",
    "version": 3
   },
   "file_extension": ".py",
   "mimetype": "text/x-python",
   "name": "python",
   "nbconvert_exporter": "python",
   "pygments_lexer": "ipython3",
   "version": "3.8.5"
  }
 },
 "nbformat": 4,
 "nbformat_minor": 4
}
