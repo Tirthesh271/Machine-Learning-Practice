{
 "cells": [
  {
   "cell_type": "code",
   "execution_count": 1,
   "metadata": {},
   "outputs": [
    {
     "name": "stdout",
     "output_type": "stream",
     "text": [
      "3\n",
      "<class 'int'>\n",
      "2.718\n",
      "<class 'float'>\n",
      "[1, 2.718, 3]\n",
      "<class 'list'>\n",
      "{1, 2, 3, 4}\n",
      "<class 'set'>\n",
      "{'1': 12, '2': 24}\n",
      "<class 'dict'>\n"
     ]
    }
   ],
   "source": [
    "ts = 3\n",
    "print(ts)\n",
    "print(type(ts))\n",
    "ts = 2.718\n",
    "print(ts)\n",
    "print(type(ts))\n",
    "ts = [1,2.718,3]\n",
    "print(ts)\n",
    "print(type(ts))\n",
    "ts = {1,2,3,4}\n",
    "print(ts)\n",
    "print(type(ts))\n",
    "ts = {'1':12,'2':24}\n",
    "print(ts)\n",
    "print(type(ts))"
   ]
  },
  {
   "cell_type": "code",
   "execution_count": 2,
   "metadata": {
    "scrolled": false
   },
   "outputs": [
    {
     "name": "stdout",
     "output_type": "stream",
     "text": [
      "{'1': 12, '2': 24}\n"
     ]
    }
   ],
   "source": [
    "print(ts)"
   ]
  },
  {
   "cell_type": "code",
   "execution_count": 7,
   "metadata": {},
   "outputs": [
    {
     "name": "stdout",
     "output_type": "stream",
     "text": [
      "4.0\n",
      "4\n"
     ]
    }
   ],
   "source": [
    "a=12\n",
    "b=3\n",
    "print(a/b)\n",
    "print(a//b)"
   ]
  },
  {
   "cell_type": "code",
   "execution_count": 6,
   "metadata": {},
   "outputs": [
    {
     "name": "stdout",
     "output_type": "stream",
     "text": [
      "(27+17j)\n",
      "(-1-1j)\n",
      "(110+229j)\n",
      "(0.9169675090252708-0.018050541516245515j)\n"
     ]
    }
   ],
   "source": [
    "#complex nos.\n",
    "a= 13 +8j\n",
    "b = 14+9j\n",
    "print(a+b)\n",
    "print(a-b)\n",
    "print(a*b)\n",
    "print(a/b)"
   ]
  },
  {
   "cell_type": "code",
   "execution_count": 9,
   "metadata": {},
   "outputs": [
    {
     "name": "stdout",
     "output_type": "stream",
     "text": [
      "False\n",
      "True\n",
      "False\n"
     ]
    }
   ],
   "source": [
    "#boolean\n",
    "a=1>2\n",
    "print(a)\n",
    "print(1==1)\n",
    "print(1==0)"
   ]
  },
  {
   "cell_type": "code",
   "execution_count": 10,
   "metadata": {},
   "outputs": [
    {
     "name": "stdout",
     "output_type": "stream",
     "text": [
      "3\n",
      "6\n",
      "[1, 3, 5, 7]\n",
      "[1, 2, 3]\n"
     ]
    }
   ],
   "source": [
    "a=[1,2,3,4,5,6,7]\n",
    "print(a[2])\n",
    "print(a[-2])\n",
    "print(a[::2])\n",
    "print(a[0:3])"
   ]
  },
  {
   "cell_type": "code",
   "execution_count": 12,
   "metadata": {},
   "outputs": [
    {
     "name": "stdout",
     "output_type": "stream",
     "text": [
      "scinortcelE\n"
     ]
    }
   ],
   "source": [
    "s = \"Electronics\"\n",
    "print(s[-1::-1])\n"
   ]
  },
  {
   "cell_type": "code",
   "execution_count": 13,
   "metadata": {},
   "outputs": [
    {
     "name": "stdout",
     "output_type": "stream",
     "text": [
      "{'p', 'h', 't', 'n', 'y', 'o'}\n"
     ]
    }
   ],
   "source": [
    "st = set(\"python\")\n",
    "print(st)\n"
   ]
  },
  {
   "cell_type": "code",
   "execution_count": 15,
   "metadata": {},
   "outputs": [
    {
     "name": "stdout",
     "output_type": "stream",
     "text": [
      "{'a': 1, 'b': 2, 'c': 4, 'd': 'new'}\n",
      "1\n"
     ]
    }
   ],
   "source": [
    "di = {'a':1,'b':2,'c':4,'d':'new'}\n",
    "print(di)\n",
    "print(di['a'])"
   ]
  },
  {
   "cell_type": "code",
   "execution_count": 17,
   "metadata": {},
   "outputs": [
    {
     "name": "stdout",
     "output_type": "stream",
     "text": [
      "{'a': 1, 'b': 2, 'c': 4, 'd': 'new'}\n",
      "<class 'dict'>\n",
      "Electronics\n",
      "<class 'str'>\n",
      "[1, 2, 3, 4, 5, 6, 7]\n",
      "<class 'list'>\n",
      "4\n",
      "<class 'int'>\n",
      "1.414\n",
      "<class 'float'>\n",
      "(1, 2, 3)\n",
      "<class 'tuple'>\n",
      "(1+2j)\n",
      "<class 'complex'>\n",
      "False\n",
      "<class 'bool'>\n"
     ]
    }
   ],
   "source": [
    "print(di)\n",
    "print(type(di))\n",
    "print(s)\n",
    "print(type(s))\n",
    "print(a)\n",
    "print(type(a))\n",
    "i = 4\n",
    "j = 1.414\n",
    "print(i)\n",
    "print(type(i))\n",
    "print(j)\n",
    "print(type(j))\n",
    "tup = (1,2,3)\n",
    "print(tup)\n",
    "print(type(tup))\n",
    "comp = 1+2j\n",
    "print(comp)\n",
    "print(type(comp))\n",
    "bl = 1>2\n",
    "print(bl)\n",
    "print(type(bl))"
   ]
  },
  {
   "cell_type": "code",
   "execution_count": null,
   "metadata": {},
   "outputs": [],
   "source": []
  }
 ],
 "metadata": {
  "kernelspec": {
   "display_name": "Python 3",
   "language": "python",
   "name": "python3"
  },
  "language_info": {
   "codemirror_mode": {
    "name": "ipython",
    "version": 3
   },
   "file_extension": ".py",
   "mimetype": "text/x-python",
   "name": "python",
   "nbconvert_exporter": "python",
   "pygments_lexer": "ipython3",
   "version": "3.8.5"
  }
 },
 "nbformat": 4,
 "nbformat_minor": 4
}
