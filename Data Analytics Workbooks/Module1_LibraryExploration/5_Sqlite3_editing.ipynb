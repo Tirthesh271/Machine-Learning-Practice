{
 "cells": [
  {
   "cell_type": "code",
   "execution_count": null,
   "metadata": {},
   "outputs": [
    {
     "name": "stdout",
     "output_type": "stream",
     "text": [
      "Enter Choice:\n",
      "1.Create new data\n",
      "2.Display all data\n",
      "3.Update data\n",
      "4.Delete data entry\n",
      "5.Exit1\n"
     ]
    }
   ],
   "source": [
    "import os\n",
    "os.getcwd()\n",
    "os.chdir('D:/Pandas')\n",
    "import sqlite3 as sq\n",
    "\n",
    "mydb = sq.connect('employee.db')\n",
    "mycur = mydb.cursor()\n",
    "try:mycur.execute('''create table employee(Emp_ID integer primary key, Name text(20) not null, DoB text(10), Qualification text, Adhar integer, PAN text);''')\n",
    "except:pass\n",
    "choice = 0\n",
    "while choice !=5:\n",
    "    choice = int(input(\"Enter Choice:\\n1.Create new data\\n2.Display all data\\n3.Update data\\n4.Delete data entry\\n5.Exit\"))\n",
    "    if(choice == 1):\n",
    "        Emp_ID=input('Enter the Emp_ID of employee: ')\n",
    "        Name=input('Enter the Name: ')\n",
    "        DoB=input('DoB of employee: ')\n",
    "        Qualification=input('Enter Qualification of the employee : ')\n",
    "        Adhar=int(input('Enter the Adhar no. of employee: '))\n",
    "        PAN=input('Enter the Pan  no. of employee: ')\n",
    "        try:\n",
    "            mycur.execute('''insert into employee values(?,?,?,?,?,?)''',(Emp_ID, Name, DoB, Qualification, Adhar, PAN))\n",
    "            mydb.commit()\n",
    "        except:\n",
    "            print('Enter unique Emp_ID')\n",
    "    elif(choice==2):\n",
    "        mycur.execute('''select * from employee ''')\n",
    "        if mycur:\n",
    "            for i in mycur:\n",
    "                print(i)\n",
    "        else:\n",
    "            print('Db is empty')\n",
    "    elif(choice==3):\n",
    "        Emp_ID=input('Enter Emp_ID to be updated ')\n",
    "        mycur.execute('''SELECT * from employee where Emp_ID is \"{}\"'''.format(Emp_ID))\n",
    "        if mycur:\n",
    "            Name=input('Enter the Name: ')\n",
    "            DoB=input('DoB of employee: ')\n",
    "            Qualification=input('Enter Qualification of the employee : ')\n",
    "            Adhar=int(input('Enter the Adhar no. of employee: '))\n",
    "            PAN=input('Enter the Pan  no. of employee: ')\n",
    "            mycur.execute('''UPDATE employee\n",
    "                            SET Name =\"{}\",DoB='{}',Qualification='{}',Adhar={},PAN='{}'\n",
    "                            WHERE Emp_ID=\"{}\";'''.format(Name,DoB,Qualification,Adhar,PAN,Emp_ID))\n",
    "        else:\n",
    "            print('Emp ID not available')\n",
    "    elif(choice==4):\n",
    "        Emp_ID=input('Enter Emp_ID which u want to delete: ')\n",
    "        mycur.execute('''SELECT * from employee where Emp_ID is \"{}\"'''.format(Emp_ID))\n",
    "        if mycur:\n",
    "            mycur.execute('''DELETE from employee\n",
    "                            WHERE Emp_ID=\"{}\";'''.format(Emp_ID))\n",
    "        else:\n",
    "            print('Emp ID not available')\n",
    "    elif(choice==5):\n",
    "        pass\n",
    "    else:\n",
    "        print(\"Enter valid choice\")\n",
    "        \n",
    "    \n",
    "mydb.close()"
   ]
  },
  {
   "cell_type": "code",
   "execution_count": null,
   "metadata": {},
   "outputs": [],
   "source": []
  }
 ],
 "metadata": {
  "kernelspec": {
   "display_name": "Python 3",
   "language": "python",
   "name": "python3"
  },
  "language_info": {
   "codemirror_mode": {
    "name": "ipython",
    "version": 3
   },
   "file_extension": ".py",
   "mimetype": "text/x-python",
   "name": "python",
   "nbconvert_exporter": "python",
   "pygments_lexer": "ipython3",
   "version": "3.8.5"
  }
 },
 "nbformat": 4,
 "nbformat_minor": 4
}
