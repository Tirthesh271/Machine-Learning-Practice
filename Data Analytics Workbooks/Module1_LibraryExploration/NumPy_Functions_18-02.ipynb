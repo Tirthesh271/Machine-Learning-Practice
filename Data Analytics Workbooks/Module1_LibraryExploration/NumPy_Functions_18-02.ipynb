{
 "cells": [
  {
   "cell_type": "code",
   "execution_count": 1,
   "metadata": {},
   "outputs": [
    {
     "name": "stdout",
     "output_type": "stream",
     "text": [
      "type arr1 =  <class 'numpy.ndarray'>\n",
      "arr2 = \n",
      " [[1 2 3]\n",
      " [2 4 6]]\n"
     ]
    }
   ],
   "source": [
    "import numpy as np\n",
    "\n",
    "arr1 = np.array([1,3,5,6])\n",
    "arr2 = np.array(([1,2,3],[2,4,6]))\n",
    "print(\"type arr1 = \",type(arr1))\n",
    "print(\"arr2 = \\n\",arr2)"
   ]
  },
  {
   "cell_type": "code",
   "execution_count": 5,
   "metadata": {},
   "outputs": [
    {
     "name": "stdout",
     "output_type": "stream",
     "text": [
      "[ 0.          0.52631579  1.05263158  1.57894737  2.10526316  2.63157895\n",
      "  3.15789474  3.68421053  4.21052632  4.73684211  5.26315789  5.78947368\n",
      "  6.31578947  6.84210526  7.36842105  7.89473684  8.42105263  8.94736842\n",
      "  9.47368421 10.        ]\n",
      "\n",
      "(array([ 0.        ,  0.52631579,  1.05263158,  1.57894737,  2.10526316,\n",
      "        2.63157895,  3.15789474,  3.68421053,  4.21052632,  4.73684211,\n",
      "        5.26315789,  5.78947368,  6.31578947,  6.84210526,  7.36842105,\n",
      "        7.89473684,  8.42105263,  8.94736842,  9.47368421, 10.        ]), 0.5263157894736842)\n"
     ]
    }
   ],
   "source": [
    "a = np.linspace(start = 0,stop = 10,num=20,endpoint = True)\n",
    "print(a)\n",
    "print()\n",
    "a = np.linspace(start = 0,stop = 10,num=20,endpoint = True,retstep = True)\n",
    "print(a)"
   ]
  },
  {
   "cell_type": "code",
   "execution_count": 7,
   "metadata": {},
   "outputs": [
    {
     "name": "stdout",
     "output_type": "stream",
     "text": [
      "[0.  0.2 0.4 0.6 0.8 1.  1.2 1.4 1.6 1.8 2.  2.2 2.4 2.6 2.8 3.  3.2 3.4\n",
      " 3.6 3.8 4.  4.2 4.4 4.6 4.8]\n"
     ]
    }
   ],
   "source": [
    "a = np.arange(start = 0, stop = 5,step = 0.2)\n",
    "print(a)"
   ]
  },
  {
   "cell_type": "code",
   "execution_count": 9,
   "metadata": {},
   "outputs": [
    {
     "name": "stdout",
     "output_type": "stream",
     "text": [
      "[[1. 1. 1.]\n",
      " [1. 1. 1.]] \n",
      "\n",
      "[[0. 0. 0. 0. 0.]\n",
      " [0. 0. 0. 0. 0.]\n",
      " [0. 0. 0. 0. 0.]\n",
      " [0. 0. 0. 0. 0.]]\n"
     ]
    }
   ],
   "source": [
    "a=np.ones((2,3))\n",
    "print(a,\"\\n\")\n",
    "a = np.zeros((4,5))\n",
    "print(a)\n"
   ]
  },
  {
   "cell_type": "code",
   "execution_count": 16,
   "metadata": {},
   "outputs": [
    {
     "name": "stdout",
     "output_type": "stream",
     "text": [
      "[0.64967611 0.8267322  0.30752629] \n",
      "\n"
     ]
    },
    {
     "data": {
      "text/plain": [
       "array([[0.94353373, 0.5785148 , 0.19134134, 0.48673803],\n",
       "       [0.98212274, 0.20073505, 0.86185067, 0.64185241],\n",
       "       [0.5246242 , 0.39937585, 0.13613356, 0.67342905]])"
      ]
     },
     "execution_count": 16,
     "metadata": {},
     "output_type": "execute_result"
    }
   ],
   "source": [
    "a = np.random.rand(3)\n",
    "print(a,\"\\n\")\n",
    "np.random.rand(3,4)"
   ]
  },
  {
   "cell_type": "code",
   "execution_count": 20,
   "metadata": {},
   "outputs": [
    {
     "data": {
      "text/plain": [
       "array([14,  4, 11, 13,  6, 10, 15, 10])"
      ]
     },
     "execution_count": 20,
     "metadata": {},
     "output_type": "execute_result"
    }
   ],
   "source": [
    "np.random.randint(low =4,high = 16,size =8)"
   ]
  },
  {
   "cell_type": "code",
   "execution_count": 25,
   "metadata": {},
   "outputs": [
    {
     "data": {
      "text/plain": [
       "array([   2.        ,    9.51365692,   45.254834  ,  215.2694823 ,\n",
       "       1024.        ])"
      ]
     },
     "execution_count": 25,
     "metadata": {},
     "output_type": "execute_result"
    }
   ],
   "source": [
    "np.logspace(1,10,num=5,endpoint = True, base = 2 )"
   ]
  },
  {
   "cell_type": "code",
   "execution_count": 32,
   "metadata": {},
   "outputs": [
    {
     "name": "stdout",
     "output_type": "stream",
     "text": [
      "[[1 2 3]\n",
      " [2 4 6]] \n",
      "\n",
      "[[1 2]\n",
      " [3 2]\n",
      " [4 6]]\n"
     ]
    }
   ],
   "source": [
    "print(arr2,\"\\n\")\n",
    "print(arr2.reshape(3,2))\n"
   ]
  },
  {
   "cell_type": "code",
   "execution_count": 33,
   "metadata": {},
   "outputs": [
    {
     "data": {
      "text/plain": [
       "(2, 3)"
      ]
     },
     "execution_count": 33,
     "metadata": {},
     "output_type": "execute_result"
    }
   ],
   "source": [
    "arr2.shape\n"
   ]
  },
  {
   "cell_type": "code",
   "execution_count": 38,
   "metadata": {},
   "outputs": [
    {
     "name": "stdout",
     "output_type": "stream",
     "text": [
      "SUM =  268\n",
      "Axis 0 =  [ 45  25  50 144   4]\n",
      "Axis 1 =  [150 118]\n"
     ]
    }
   ],
   "source": [
    "arr = np.array(([12,23,45,67,3],[33,2,5,77,1]))\n",
    "\n",
    "print(\"SUM = \",np.sum(arr))\n",
    "print(\"Axis 0 = \",np.sum(arr,axis = 0))\n",
    "print(\"Axis 1 = \",np.sum(arr,axis = 1))"
   ]
  },
  {
   "cell_type": "code",
   "execution_count": 46,
   "metadata": {},
   "outputs": [
    {
     "name": "stdout",
     "output_type": "stream",
     "text": [
      "[2 3 4 5 6 7]\n",
      "[18  5 13 10 17  7]\n"
     ]
    },
    {
     "data": {
      "text/plain": [
       "array([20,  8, 17, 15, 23, 14])"
      ]
     },
     "execution_count": 46,
     "metadata": {},
     "output_type": "execute_result"
    }
   ],
   "source": [
    "a = np.arange(start = 2, stop = 8,step = 1)\n",
    "b = np.random.randint(low =5,high = 20, size = a.shape[0])\n",
    "print(a)\n",
    "print(b)\n",
    "np.add(a,b)"
   ]
  },
  {
   "cell_type": "code",
   "execution_count": 47,
   "metadata": {},
   "outputs": [
    {
     "data": {
      "text/plain": [
       "array([ 36,  15,  52,  50, 102,  49])"
      ]
     },
     "execution_count": 47,
     "metadata": {},
     "output_type": "execute_result"
    }
   ],
   "source": [
    "np.multiply(a,b)"
   ]
  },
  {
   "cell_type": "code",
   "execution_count": 48,
   "metadata": {},
   "outputs": [
    {
     "name": "stdout",
     "output_type": "stream",
     "text": [
      "[[12 23 45 67  3]\n",
      " [33  2  5 77  1]]\n"
     ]
    },
    {
     "data": {
      "text/plain": [
       "array([[12, 33],\n",
       "       [23,  2],\n",
       "       [45,  5],\n",
       "       [67, 77],\n",
       "       [ 3,  1]])"
      ]
     },
     "execution_count": 48,
     "metadata": {},
     "output_type": "execute_result"
    }
   ],
   "source": [
    "print(arr)\n",
    "np.transpose(arr)"
   ]
  },
  {
   "cell_type": "code",
   "execution_count": 55,
   "metadata": {},
   "outputs": [
    {
     "data": {
      "text/plain": [
       "array([[12, 23, 45, 67,  3],\n",
       "       [33,  2,  5, 77,  1],\n",
       "       [23, 42,  3,  4, 66]])"
      ]
     },
     "execution_count": 55,
     "metadata": {},
     "output_type": "execute_result"
    }
   ],
   "source": [
    "a = np.append(arr,[[23,42,3,4,66]],axis =0)\n",
    "a"
   ]
  },
  {
   "cell_type": "code",
   "execution_count": 57,
   "metadata": {},
   "outputs": [
    {
     "data": {
      "text/plain": [
       "array([[ 2,  3,  4,  1,  6],\n",
       "       [12, 23, 45, 67,  3],\n",
       "       [33,  2,  5, 77,  1],\n",
       "       [23, 42,  3,  4, 66]])"
      ]
     },
     "execution_count": 57,
     "metadata": {},
     "output_type": "execute_result"
    }
   ],
   "source": [
    "i = np.insert(a,0,[2,3,4,1,6],axis = 0)\n",
    "i"
   ]
  },
  {
   "cell_type": "code",
   "execution_count": 59,
   "metadata": {},
   "outputs": [
    {
     "data": {
      "text/plain": [
       "array([[ 2,  3,  4,  1,  6],\n",
       "       [12, 23, 45, 67,  3],\n",
       "       [33,  2,  5, 77,  1]])"
      ]
     },
     "execution_count": 59,
     "metadata": {},
     "output_type": "execute_result"
    }
   ],
   "source": [
    "i= np.delete(i, 3, axis =0)\n",
    "i"
   ]
  },
  {
   "cell_type": "code",
   "execution_count": 68,
   "metadata": {},
   "outputs": [
    {
     "name": "stdout",
     "output_type": "stream",
     "text": [
      "[[ 2  4  5]\n",
      " [22 45  7]]\n"
     ]
    }
   ],
   "source": [
    "a = np.matrix(\"2,4,5;22,45,7\")\n",
    "print(a)"
   ]
  },
  {
   "cell_type": "code",
   "execution_count": 69,
   "metadata": {},
   "outputs": [
    {
     "data": {
      "text/plain": [
       "(2, 3)"
      ]
     },
     "execution_count": 69,
     "metadata": {},
     "output_type": "execute_result"
    }
   ],
   "source": [
    "a.shape"
   ]
  },
  {
   "cell_type": "code",
   "execution_count": 70,
   "metadata": {},
   "outputs": [
    {
     "data": {
      "text/plain": [
       "3"
      ]
     },
     "execution_count": 70,
     "metadata": {},
     "output_type": "execute_result"
    }
   ],
   "source": [
    "a.shape[1]"
   ]
  },
  {
   "cell_type": "code",
   "execution_count": 71,
   "metadata": {},
   "outputs": [
    {
     "data": {
      "text/plain": [
       "6"
      ]
     },
     "execution_count": 71,
     "metadata": {},
     "output_type": "execute_result"
    }
   ],
   "source": [
    "a.size"
   ]
  },
  {
   "cell_type": "code",
   "execution_count": 73,
   "metadata": {},
   "outputs": [
    {
     "data": {
      "text/plain": [
       "matrix([[ 2,  4,  5],\n",
       "        [ 1,  3,  5],\n",
       "        [22, 45,  7]])"
      ]
     },
     "execution_count": 73,
     "metadata": {},
     "output_type": "execute_result"
    }
   ],
   "source": [
    "col = np.matrix(\"1,3,5\")\n",
    "a = np.insert(a,1,col,axis = 0)\n",
    "a"
   ]
  },
  {
   "cell_type": "code",
   "execution_count": 75,
   "metadata": {},
   "outputs": [
    {
     "data": {
      "text/plain": [
       "matrix([[10, 12, 14, 16, 18],\n",
       "        [20, 22, 24, 26, 28],\n",
       "        [30, 32, 34, 36, 38],\n",
       "        [40, 42, 44, 46, 48]])"
      ]
     },
     "execution_count": 75,
     "metadata": {},
     "output_type": "execute_result"
    }
   ],
   "source": [
    "a = np.matrix(np.arange(0,20)).reshape(4,5)\n",
    "b = np.matrix(np.arange(10,30)).reshape(4,5)\n",
    "c = np.add(a,b)\n",
    "c"
   ]
  },
  {
   "cell_type": "code",
   "execution_count": 76,
   "metadata": {},
   "outputs": [
    {
     "data": {
      "text/plain": [
       "matrix([[-10, -10, -10, -10, -10],\n",
       "        [-10, -10, -10, -10, -10],\n",
       "        [-10, -10, -10, -10, -10],\n",
       "        [-10, -10, -10, -10, -10]])"
      ]
     },
     "execution_count": 76,
     "metadata": {},
     "output_type": "execute_result"
    }
   ],
   "source": [
    "c = np.subtract(a,b)\n",
    "c"
   ]
  },
  {
   "cell_type": "code",
   "execution_count": 78,
   "metadata": {},
   "outputs": [
    {
     "data": {
      "text/plain": [
       "matrix([[  0,  11,  24,  39,  56],\n",
       "        [ 75,  96, 119, 144, 171],\n",
       "        [200, 231, 264, 299, 336],\n",
       "        [375, 416, 459, 504, 551]])"
      ]
     },
     "execution_count": 78,
     "metadata": {},
     "output_type": "execute_result"
    }
   ],
   "source": [
    "c = np.multiply(a,b)\n",
    "c"
   ]
  },
  {
   "cell_type": "code",
   "execution_count": 80,
   "metadata": {},
   "outputs": [
    {
     "data": {
      "text/plain": [
       "matrix([[ 130,  180,  230,  280],\n",
       "        [ 430,  605,  780,  955],\n",
       "        [ 730, 1030, 1330, 1630],\n",
       "        [1030, 1455, 1880, 2305]])"
      ]
     },
     "execution_count": 80,
     "metadata": {},
     "output_type": "execute_result"
    }
   ],
   "source": [
    "c = np.dot(a,b.transpose())\n",
    "c"
   ]
  },
  {
   "cell_type": "code",
   "execution_count": 81,
   "metadata": {},
   "outputs": [
    {
     "data": {
      "text/plain": [
       "matrix([[0.        , 0.09090909, 0.16666667, 0.23076923, 0.28571429],\n",
       "        [0.33333333, 0.375     , 0.41176471, 0.44444444, 0.47368421],\n",
       "        [0.5       , 0.52380952, 0.54545455, 0.56521739, 0.58333333],\n",
       "        [0.6       , 0.61538462, 0.62962963, 0.64285714, 0.65517241]])"
      ]
     },
     "execution_count": 81,
     "metadata": {},
     "output_type": "execute_result"
    }
   ],
   "source": [
    "c= np.divide(a,b)\n",
    "c"
   ]
  },
  {
   "cell_type": "code",
   "execution_count": 84,
   "metadata": {},
   "outputs": [
    {
     "data": {
      "text/plain": [
       "-176.00000000000009"
      ]
     },
     "execution_count": 84,
     "metadata": {},
     "output_type": "execute_result"
    }
   ],
   "source": [
    "a = np.array(([1,4,7],[2,6,4],[9,7,6]))\n",
    "det = np.linalg.det(a)\n",
    "det"
   ]
  },
  {
   "cell_type": "code",
   "execution_count": 87,
   "metadata": {},
   "outputs": [
    {
     "data": {
      "text/plain": [
       "3"
      ]
     },
     "execution_count": 87,
     "metadata": {},
     "output_type": "execute_result"
    }
   ],
   "source": [
    "rank = np.linalg.matrix_rank(a)\n",
    "rank"
   ]
  },
  {
   "cell_type": "code",
   "execution_count": 88,
   "metadata": {},
   "outputs": [
    {
     "data": {
      "text/plain": [
       "array([[-0.04545455, -0.14204545,  0.14772727],\n",
       "       [-0.13636364,  0.32386364, -0.05681818],\n",
       "       [ 0.22727273, -0.16477273,  0.01136364]])"
      ]
     },
     "execution_count": 88,
     "metadata": {},
     "output_type": "execute_result"
    }
   ],
   "source": [
    "inv = np.linalg.inv(a)\n",
    "inv"
   ]
  },
  {
   "cell_type": "code",
   "execution_count": 90,
   "metadata": {},
   "outputs": [
    {
     "data": {
      "text/plain": [
       "matrix([[ 1.33333333],\n",
       "        [-0.16666667],\n",
       "        [ 0.33333333]])"
      ]
     },
     "execution_count": 90,
     "metadata": {},
     "output_type": "execute_result"
    }
   ],
   "source": [
    "e = np.matrix(\"1,2,6;2,4,6;3,4,5\")\n",
    "f = np.matrix(\"3,4,5\").transpose()\n",
    "\n",
    "sol = np.linalg.solve(e,f)\n",
    "sol\n"
   ]
  }
 ],
 "metadata": {
  "kernelspec": {
   "display_name": "Python 3",
   "language": "python",
   "name": "python3"
  },
  "language_info": {
   "codemirror_mode": {
    "name": "ipython",
    "version": 3
   },
   "file_extension": ".py",
   "mimetype": "text/x-python",
   "name": "python",
   "nbconvert_exporter": "python",
   "pygments_lexer": "ipython3",
   "version": "3.8.5"
  }
 },
 "nbformat": 4,
 "nbformat_minor": 4
}
