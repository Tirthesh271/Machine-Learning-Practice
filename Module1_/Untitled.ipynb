{
 "cells": [
  {
   "cell_type": "code",
   "execution_count": 1,
   "metadata": {},
   "outputs": [
    {
     "name": "stdout",
     "output_type": "stream",
     "text": [
      "3\n",
      "<class 'int'>\n",
      "2.718\n",
      "<class 'float'>\n",
      "[1, 2.718, 3]\n",
      "<class 'list'>\n",
      "{1, 2, 3, 4}\n",
      "<class 'set'>\n",
      "{'1': 12, '2': 24}\n",
      "<class 'dict'>\n"
     ]
    }
   ],
   "source": [
    "ts = 3\n",
    "print(ts)\n",
    "print(type(ts))\n",
    "ts = 2.718\n",
    "print(ts)\n",
    "print(type(ts))\n",
    "ts = [1,2.718,3]\n",
    "print(ts)\n",
    "print(type(ts))\n",
    "ts = {1,2,3,4}\n",
    "print(ts)\n",
    "print(type(ts))\n",
    "ts = {'1':12,'2':24}\n",
    "print(ts)\n",
    "print(type(ts))"
   ]
  },
  {
   "cell_type": "code",
   "execution_count": 2,
   "metadata": {},
   "outputs": [
    {
     "name": "stdout",
     "output_type": "stream",
     "text": [
      "{'1': 12, '2': 24}\n"
     ]
    }
   ],
   "source": [
    "print(ts)"
   ]
  },
  {
   "cell_type": "code",
   "execution_count": 3,
   "metadata": {},
   "outputs": [
    {
     "name": "stdout",
     "output_type": "stream",
     "text": [
      "4.0\n"
     ]
    }
   ],
   "source": [
    "a=12\n",
    "b=3\n",
    "print(a/b)"
   ]
  },
  {
   "cell_type": "code",
   "execution_count": 4,
   "metadata": {},
   "outputs": [
    {
     "name": "stdout",
     "output_type": "stream",
     "text": [
      "4\n"
     ]
    }
   ],
   "source": [
    "print(a//b)"
   ]
  },
  {
   "cell_type": "code",
   "execution_count": null,
   "metadata": {},
   "outputs": [],
   "source": []
  }
 ],
 "metadata": {
  "kernelspec": {
   "display_name": "Python 3",
   "language": "python",
   "name": "python3"
  },
  "language_info": {
   "codemirror_mode": {
    "name": "ipython",
    "version": 3
   },
   "file_extension": ".py",
   "mimetype": "text/x-python",
   "name": "python",
   "nbconvert_exporter": "python",
   "pygments_lexer": "ipython3",
   "version": "3.8.5"
  }
 },
 "nbformat": 4,
 "nbformat_minor": 4
}
