{
 "cells": [
  {
   "cell_type": "code",
   "execution_count": null,
   "metadata": {},
   "outputs": [],
   "source": [
    "#Roll no: 22341\n",
    "import os\n",
    "os.getcwd()\n",
    "os.chdir('D:/Pandas')\n",
    "import sqlite3 as sq\n",
    "\n",
    "mydb = sq.connect('school.db')\n",
    "\n",
    "mycur = mydb.cursor()\n",
    "mycur.execute('''create table students(studentID integer primary key, name text(20) not null,house text, marks real);''')\n",
    "mydb.close()"
   ]
  },
  {
   "cell_type": "code",
   "execution_count": 9,
   "metadata": {},
   "outputs": [],
   "source": [
    "mydb = sq.connect('school.db')\n",
    "\n",
    "mycur = mydb.cursor()\n",
    "\n",
    "mycur.execute('''insert into students values(2,\"Vijay\", \"Blue\",33);''')\n",
    "mydb.commit()\n",
    "mydb.close()\n"
   ]
  },
  {
   "cell_type": "code",
   "execution_count": 10,
   "metadata": {},
   "outputs": [
    {
     "name": "stdout",
     "output_type": "stream",
     "text": [
      "[(2, 'Vijay', 'Blue', 33.0)]\n"
     ]
    }
   ],
   "source": [
    "mydb = sq.connect('school.db')\n",
    "mycur = mydb.cursor()\n",
    "mycur.execute('''select * from students;''')\n",
    "rec = mycur.fetchall()\n",
    "mydb.close()\n",
    "print(rec)\n"
   ]
  },
  {
   "cell_type": "code",
   "execution_count": 12,
   "metadata": {},
   "outputs": [
    {
     "name": "stdout",
     "output_type": "stream",
     "text": [
      "(2, 'Vijay', 'Blue', 33.0)\n"
     ]
    }
   ],
   "source": [
    "mydb = sq.connect('school.db')\n",
    "mycur = mydb.cursor()\n",
    "mycur.execute('''select * from students;''')\n",
    "rec = mycur.fetchone()\n",
    "mydb.close()\n",
    "print(rec)\n"
   ]
  },
  {
   "cell_type": "code",
   "execution_count": null,
   "metadata": {},
   "outputs": [],
   "source": [
    "mydb = sq.connect('school.db')\n",
    "mycur = mydb.cursor()\n",
    "\n",
    "mysid = int(input(\"Enter ID: \"))\n",
    "myname = input(\"Enter name: \")\n",
    "myhouse = input(\"Enter House: \")\n",
    "mymarks = float(input(\"Enter Marks: \"))\n",
    "mycur.execute('insert into students(StudentID, name, house, marks)VALUES(?,?,?,?);',(mysid, myname, myhouse, mymarks))\n",
    "\n",
    "mydb.commit()\n",
    "mydb.close()"
   ]
  },
  {
   "cell_type": "code",
   "execution_count": null,
   "metadata": {},
   "outputs": [],
   "source": [
    "def insertdata(myid,myname,mydiv):\n",
    "    db = sq.connect('mydb.db')\n",
    "    cur = db.cursor()\n",
    "    \n",
    "    q = '''insert into mytab values(?,?,?)'''\n",
    "    data = (myid, myname,mydiv)\n",
    "    cur.execute(q,data)\n",
    "    \n",
    "    db.commit()\n",
    "    db.close()\n",
    "\n",
    "    insertdata(10,'Ron', 'B')\n",
    "    "
   ]
  },
  {
   "cell_type": "code",
   "execution_count": null,
   "metadata": {},
   "outputs": [],
   "source": [
    "def update(myatt, myval, myid):\n",
    "    db = sq.connect('mydb.db')\n",
    "    cur = db.cursor()\n",
    "    \n",
    "    if(myatt == 'Name'):\n",
    "        q = '''update mytab set Name = ? where ID = ?'''\n",
    "    elif(myatt == 'Division'):\n",
    "        q = '''update mytab set Division = ? where ID = ?'''\n",
    "    data = (myval, myid)\n",
    "    cur.execute(q,data)\n",
    "    print('Updated')\n",
    "    db.close()\n",
    "    display()\n",
    "    \n",
    "update('Name','Tom',8)\n",
    "update('Division','B',8)\n"
   ]
  },
  {
   "cell_type": "code",
   "execution_count": null,
   "metadata": {},
   "outputs": [],
   "source": []
  }
 ],
 "metadata": {
  "kernelspec": {
   "display_name": "Python 3",
   "language": "python",
   "name": "python3"
  },
  "language_info": {
   "codemirror_mode": {
    "name": "ipython",
    "version": 3
   },
   "file_extension": ".py",
   "mimetype": "text/x-python",
   "name": "python",
   "nbconvert_exporter": "python",
   "pygments_lexer": "ipython3",
   "version": "3.8.5"
  }
 },
 "nbformat": 4,
 "nbformat_minor": 4
}
